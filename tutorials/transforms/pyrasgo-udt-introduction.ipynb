{
 "cells": [
  {
   "cell_type": "markdown",
   "id": "93f87ce1-f9dd-43f5-9758-af28cc4d0578",
   "metadata": {},
   "source": [
    "# Rasgo User Defined Transformations"
   ]
  },
  {
   "cell_type": "markdown",
   "id": "a4df05c2-017f-4743-9108-74d82b68cdfb",
   "metadata": {},
   "source": [
    "This notebook introduces User Defined Transformations (UDTs) in Rasgo, shows how to use them from within Python with the PyRasgo package to transform and publish data on Rasgo."
   ]
  },
  {
   "cell_type": "markdown",
   "id": "c14fb9fc-e661-4b78-8c54-6c31638f67dd",
   "metadata": {},
   "source": [
    "### Packages"
   ]
  },
  {
   "cell_type": "markdown",
   "id": "4db5d3e7-7be6-46c4-af0c-22b591bb07aa",
   "metadata": {},
   "source": [
    "This tutorial uses:\n",
    "* [pandas](https://pandas.pydata.org/docs/)\n",
    "* [PyRasgo](https://app.gitbook.com/@rasgo/s/rasgo-docs/pyrasgo-0.1/dataframe-prep)"
   ]
  },
  {
   "cell_type": "code",
   "execution_count": 1,
   "id": "f1300358-ea4e-482c-9ee1-18f6fb1a1918",
   "metadata": {},
   "outputs": [],
   "source": [
    "import pandas as pd\n",
    "import pyrasgo"
   ]
  },
  {
   "cell_type": "markdown",
   "id": "11273179-7480-44cc-af34-b336b3d7d91d",
   "metadata": {},
   "source": [
    "## Access Rasgo"
   ]
  },
  {
   "cell_type": "markdown",
   "id": "fca749bd-e296-4a14-87a4-c2f1ac5b3551",
   "metadata": {},
   "source": [
    "### Create account"
   ]
  },
  {
   "cell_type": "markdown",
   "id": "7e5133b9-9d20-4e58-8d13-f2e5c293b806",
   "metadata": {},
   "source": [
    "Next, click [here](https://app.rasgoml.com/account/register) to create an account on the Rasgo UI. Fill in the required information on the web page.\n",
    "\n",
    "<p align=\"center\">\n",
    "  <img src=\"img/RasgoAccountRegistration.png\" alt=\"Rasgo Account Registration\" width=\"512\">\n",
    "</p>\n",
    "\n",
    "You can close the browser tab as you will receive an email from rasgo to verify your email address. Click the **Verify Email** button to verify.\n",
    "\n",
    "<p align=\"center\">\n",
    "  <img src=\"img/RasgoWelcome.png\" alt=\"Verify Email\" width=\"390\">\n",
    "</p>\n",
    "\n",
    "This will open browser tab where you can log into the UI."
   ]
  },
  {
   "cell_type": "markdown",
   "id": "307f98a5-868e-4dd8-bb41-76c3c821dd57",
   "metadata": {},
   "source": [
    "### Log into Rasgo UI"
   ]
  },
  {
   "cell_type": "markdown",
   "id": "61919c2b-a974-4dd4-b522-4e5ef7a8e544",
   "metadata": {},
   "source": [
    "Enter your username and password and click **Login**.\n",
    "\n",
    "<p align=\"center\">\n",
    "  <img src=\"img/RasgoLogin.png\" alt=\"Login to Rasgo\" width=\"528\">\n",
    "</p>\n",
    "\n",
    "to be taken to the Rasgo App homepage."
   ]
  },
  {
   "cell_type": "markdown",
   "id": "afb7ed4e-f7e7-4d49-a0f3-5d67500646de",
   "metadata": {},
   "source": [
    "### Copy your API Key"
   ]
  },
  {
   "cell_type": "markdown",
   "id": "f6a77895-b1b4-4acc-83b2-782a31c4956a",
   "metadata": {},
   "source": [
    "Click the **API KEY** button in the upper right of the screen\n",
    "\n",
    "<img src=\"img/APIKEY.png\" alt=\"Copy API Key\" width=\"128\">\n",
    "\n",
    "to copy your API key to the clipboard."
   ]
  },
  {
   "cell_type": "markdown",
   "id": "395ff398-9148-44a7-bb0c-749ee470b0d3",
   "metadata": {},
   "source": [
    "## Work with PyRasgo"
   ]
  },
  {
   "cell_type": "markdown",
   "id": "01417805-cb8b-4029-8470-2521a5e347c8",
   "metadata": {},
   "source": [
    "Paste the api key below"
   ]
  },
  {
   "cell_type": "code",
   "execution_count": null,
   "id": "d9ca1de1-9edd-4b60-8fa5-8015b6152900",
   "metadata": {},
   "outputs": [],
   "source": [
    "API_KEY = '<YOUR API KEY>'"
   ]
  },
  {
   "cell_type": "markdown",
   "id": "b100730b-4970-4514-b80e-b14cdaaf56ef",
   "metadata": {},
   "source": [
    "### Connect to Rasgo"
   ]
  },
  {
   "cell_type": "code",
   "execution_count": 3,
   "id": "e1e895ac-58e8-429e-8fdc-60dfdca8f2a1",
   "metadata": {},
   "outputs": [],
   "source": [
    "rasgo = pyrasgo.connect(API_KEY)"
   ]
  },
  {
   "cell_type": "markdown",
   "id": "037b235b-d57a-4095-8c51-eae60d00e8b8",
   "metadata": {},
   "source": [
    "### Transform Data"
   ]
  },
  {
   "cell_type": "markdown",
   "id": "7caf9064-0f5b-4561-8128-9f859f3f24d2",
   "metadata": {},
   "source": [
    "This tutorial will work with [Daily Dark Sky Weather Data](https://app.rasgoml.com/sources/2).  First, call `rasgo.get.data_source` to allow us to work with this data"
   ]
  },
  {
   "cell_type": "code",
   "execution_count": 4,
   "id": "2e9e156a-4f42-4c0a-aaea-64caafe3e72e",
   "metadata": {},
   "outputs": [
    {
     "data": {
      "text/plain": [
       "Source(id=2, name=Dark Sky: Daily, sourceType=Table, table=RASGOCOMMUNITY.PUBLIC.DARKSKY_DAILY_FEATURES)"
      ]
     },
     "execution_count": 4,
     "metadata": {},
     "output_type": "execute_result"
    }
   ],
   "source": [
    "datasource = rasgo.get.data_source(id=2)\n",
    "datasource"
   ]
  },
  {
   "cell_type": "markdown",
   "id": "0c0beaa7-5369-4c7c-9b30-4398ed60be7c",
   "metadata": {},
   "source": [
    "Call `rasgo.get.transforms` to get a list of supported transforms already loaded into Rasgo."
   ]
  },
  {
   "cell_type": "code",
   "execution_count": 5,
   "id": "de908e33-04e5-4713-8eff-95c3c2489ca7",
   "metadata": {},
   "outputs": [
    {
     "data": {
      "text/plain": [
       "[Transform(name='rasgo_datetrunc', sourceCode='\\n{% set date_list = None %}\\n{%- if date_column is string -%}\\n    {% set date_list = [date_column] %}\\n{% else %}\\n    {% set date_list = date_column %}\\n{%- endif -%}\\n\\nSELECT *, \\n{%- for col in date_list -%}\\n    DATE_TRUNC({{date_part}}, {{col}}) as {{col}}_{{date_part}} {{ \", \" if not loop.last else \"\" }}\\n{%- endfor -%}\\nfrom {{ source_table }}', id=66, arguments=['date_part', 'date_column']),\n",
       " Transform(name='rasgo_lag', sourceCode='\\nSELECT *, \\n    {% for col in Columns %}\\n        {%- for amount in Amounts -%}\\n            lag({{col}}, {{amount}}) over (partition by {{Partition}} order by {{OrderBy}}) as Lag_{{col}}_{{amount}}{{ \", \" if not loop.last else \"\" }}\\n        {%- endfor -%}\\n        {{ \", \" if not loop.last else \"\" }}\\n    {% endfor %}\\nfrom {{ source_table }}', id=64, arguments=['Partition', 'Amounts', 'OrderBy', 'Columns'])]"
      ]
     },
     "execution_count": 5,
     "metadata": {},
     "output_type": "execute_result"
    }
   ],
   "source": [
    "transforms = rasgo.get.transforms()\n",
    "transforms"
   ]
  },
  {
   "cell_type": "markdown",
   "id": "b007bb5d-0819-462b-9aea-6e29c80af4f8",
   "metadata": {},
   "source": [
    "Calling `datasource.transform` with one of these transformations will apply the transformation to the datasource from above.  In this case, we will create **lags** of 1 day and 1 week for the features: *DS_DAILY_HIGH_TEMP*, *DS_DAILY_LOW_TEMP*, *DS_DAILY_TOTAL_RAINFALL*, *DS_DAILY_WINDSPEED*, *DS_WEATHER_ICON*.\n",
    "\n",
    "The parameters we need to specify for the transform are:\n",
    "- *rasgo_lag*: to define the transform we want to call\n",
    "- *Columns*: the list of columns/features to transform. In this case the list of features above\n",
    "- *Amounts*: the number of days to lag.  In this case, 1 and 7\n",
    "- *Partition*: If there are more than one series in the data, the field that specifies the series. In this case, that represents the location of the series.\n",
    "- *OrderBy*: the date field to use in the lag"
   ]
  },
  {
   "cell_type": "code",
   "execution_count": 6,
   "id": "0f75c5e0-b7c8-4e6b-97c1-e16adbe363d6",
   "metadata": {},
   "outputs": [],
   "source": [
    "newsource = datasource.transform(transform_name='rasgo_lag',\n",
    "                                 Columns = ['DS_DAILY_HIGH_TEMP', 'DS_DAILY_LOW_TEMP', 'DS_DAILY_TOTAL_RAINFALL', \n",
    "                                            'DS_DAILY_WINDSPEED', 'DS_WEATHER_ICON'],\n",
    "                                 Amounts = [1, 7],\n",
    "                                 Partition = 'FIPS',\n",
    "                                 OrderBy = 'DATE')"
   ]
  },
  {
   "cell_type": "markdown",
   "id": "d6d4ff0a-a749-4850-9392-b8e84e53ddf1",
   "metadata": {},
   "source": [
    "The function `preview_sql` shows the SQL `SELECT` statement that will be run to perform the transformation."
   ]
  },
  {
   "cell_type": "code",
   "execution_count": 7,
   "id": "2b6c5de6-699d-4f14-84a2-69682b104b7c",
   "metadata": {},
   "outputs": [
    {
     "data": {
      "text/plain": [
       "'\\nSELECT *, \\n    lag(DS_DAILY_HIGH_TEMP, 1) over (partition by FIPS order by DATE) as Lag_DS_DAILY_HIGH_TEMP_1, lag(DS_DAILY_HIGH_TEMP, 7) over (partition by FIPS order by DATE) as Lag_DS_DAILY_HIGH_TEMP_7, \\n    lag(DS_DAILY_LOW_TEMP, 1) over (partition by FIPS order by DATE) as Lag_DS_DAILY_LOW_TEMP_1, lag(DS_DAILY_LOW_TEMP, 7) over (partition by FIPS order by DATE) as Lag_DS_DAILY_LOW_TEMP_7, \\n    lag(DS_DAILY_TOTAL_RAINFALL, 1) over (partition by FIPS order by DATE) as Lag_DS_DAILY_TOTAL_RAINFALL_1, lag(DS_DAILY_TOTAL_RAINFALL, 7) over (partition by FIPS order by DATE) as Lag_DS_DAILY_TOTAL_RAINFALL_7, \\n    lag(DS_DAILY_WINDSPEED, 1) over (partition by FIPS order by DATE) as Lag_DS_DAILY_WINDSPEED_1, lag(DS_DAILY_WINDSPEED, 7) over (partition by FIPS order by DATE) as Lag_DS_DAILY_WINDSPEED_7, \\n    lag(DS_WEATHER_ICON, 1) over (partition by FIPS order by DATE) as Lag_DS_WEATHER_ICON_1, lag(DS_WEATHER_ICON, 7) over (partition by FIPS order by DATE) as Lag_DS_WEATHER_ICON_7\\n    \\nfrom RASGOCOMMUNITY.PUBLIC.DARKSKY_DAILY_FEATURES'"
      ]
     },
     "execution_count": 7,
     "metadata": {},
     "output_type": "execute_result"
    }
   ],
   "source": [
    "newsource.preview_sql()"
   ]
  },
  {
   "cell_type": "markdown",
   "id": "bc92523a-b679-403f-889e-73f1ca647f30",
   "metadata": {},
   "source": [
    "The function `preview` will return a dataframe with the first 10 rows transformed to check the transformation."
   ]
  },
  {
   "cell_type": "code",
   "execution_count": 8,
   "id": "d962a2c0-7b6c-4dcd-b553-9353feb6f923",
   "metadata": {},
   "outputs": [
    {
     "data": {
      "text/plain": [
       "Index(['FIPS', 'DS_DAILY_HIGH_TEMP', 'DS_DAILY_LOW_TEMP',\n",
       "       'DS_DAILY_TEMP_VARIATION', 'DS_WEATHER_ICON', 'IS_CLEAR_DAY',\n",
       "       'IS_CLOUDY', 'IS_PARTLY_CLOUDY', 'IS_RAINY', 'IS_SNOWY', 'IS_WINDY',\n",
       "       'DS_DAILY_HUMIDITY', 'DS_DAILY_WINDSPEED', 'DS_DAILY_CLOUDCOVER',\n",
       "       'DS_SNOW_INDICATOR', 'DS_DAILY_TOTAL_RAINFALL',\n",
       "       'DS_TEMP_VARIATION_PREVIOUS_DAY', 'DATE', 'LAG_DS_DAILY_HIGH_TEMP_1',\n",
       "       'LAG_DS_DAILY_HIGH_TEMP_7', 'LAG_DS_DAILY_LOW_TEMP_1',\n",
       "       'LAG_DS_DAILY_LOW_TEMP_7', 'LAG_DS_DAILY_TOTAL_RAINFALL_1',\n",
       "       'LAG_DS_DAILY_TOTAL_RAINFALL_7', 'LAG_DS_DAILY_WINDSPEED_1',\n",
       "       'LAG_DS_DAILY_WINDSPEED_7', 'LAG_DS_WEATHER_ICON_1',\n",
       "       'LAG_DS_WEATHER_ICON_7'],\n",
       "      dtype='object')"
      ]
     },
     "execution_count": 8,
     "metadata": {},
     "output_type": "execute_result"
    }
   ],
   "source": [
    "df = newsource.preview()\n",
    "df.columns"
   ]
  },
  {
   "cell_type": "code",
   "execution_count": 9,
   "id": "b35cd330-bf58-4247-991c-30320efd5c51",
   "metadata": {},
   "outputs": [
    {
     "data": {
      "text/html": [
       "<div>\n",
       "<style scoped>\n",
       "    .dataframe tbody tr th:only-of-type {\n",
       "        vertical-align: middle;\n",
       "    }\n",
       "\n",
       "    .dataframe tbody tr th {\n",
       "        vertical-align: top;\n",
       "    }\n",
       "\n",
       "    .dataframe thead th {\n",
       "        text-align: right;\n",
       "    }\n",
       "</style>\n",
       "<table border=\"1\" class=\"dataframe\">\n",
       "  <thead>\n",
       "    <tr style=\"text-align: right;\">\n",
       "      <th></th>\n",
       "      <th>FIPS</th>\n",
       "      <th>DS_DAILY_HIGH_TEMP</th>\n",
       "      <th>DS_DAILY_LOW_TEMP</th>\n",
       "      <th>DS_DAILY_TEMP_VARIATION</th>\n",
       "      <th>DS_WEATHER_ICON</th>\n",
       "      <th>IS_CLEAR_DAY</th>\n",
       "      <th>IS_CLOUDY</th>\n",
       "      <th>IS_PARTLY_CLOUDY</th>\n",
       "      <th>IS_RAINY</th>\n",
       "      <th>IS_SNOWY</th>\n",
       "      <th>...</th>\n",
       "      <th>LAG_DS_DAILY_HIGH_TEMP_1</th>\n",
       "      <th>LAG_DS_DAILY_HIGH_TEMP_7</th>\n",
       "      <th>LAG_DS_DAILY_LOW_TEMP_1</th>\n",
       "      <th>LAG_DS_DAILY_LOW_TEMP_7</th>\n",
       "      <th>LAG_DS_DAILY_TOTAL_RAINFALL_1</th>\n",
       "      <th>LAG_DS_DAILY_TOTAL_RAINFALL_7</th>\n",
       "      <th>LAG_DS_DAILY_WINDSPEED_1</th>\n",
       "      <th>LAG_DS_DAILY_WINDSPEED_7</th>\n",
       "      <th>LAG_DS_WEATHER_ICON_1</th>\n",
       "      <th>LAG_DS_WEATHER_ICON_7</th>\n",
       "    </tr>\n",
       "  </thead>\n",
       "  <tbody>\n",
       "    <tr>\n",
       "      <th>0</th>\n",
       "      <td>20117</td>\n",
       "      <td>64.25</td>\n",
       "      <td>26.32</td>\n",
       "      <td>37.93</td>\n",
       "      <td>clear-day</td>\n",
       "      <td>1</td>\n",
       "      <td>0</td>\n",
       "      <td>0</td>\n",
       "      <td>0</td>\n",
       "      <td>0</td>\n",
       "      <td>...</td>\n",
       "      <td>NaN</td>\n",
       "      <td>NaN</td>\n",
       "      <td>NaN</td>\n",
       "      <td>NaN</td>\n",
       "      <td>NaN</td>\n",
       "      <td>NaN</td>\n",
       "      <td>NaN</td>\n",
       "      <td>NaN</td>\n",
       "      <td>None</td>\n",
       "      <td>None</td>\n",
       "    </tr>\n",
       "    <tr>\n",
       "      <th>1</th>\n",
       "      <td>20117</td>\n",
       "      <td>65.29</td>\n",
       "      <td>39.89</td>\n",
       "      <td>25.40</td>\n",
       "      <td>partly-cloudy-day</td>\n",
       "      <td>0</td>\n",
       "      <td>0</td>\n",
       "      <td>1</td>\n",
       "      <td>0</td>\n",
       "      <td>0</td>\n",
       "      <td>...</td>\n",
       "      <td>64.25</td>\n",
       "      <td>NaN</td>\n",
       "      <td>26.32</td>\n",
       "      <td>NaN</td>\n",
       "      <td>0.000035</td>\n",
       "      <td>NaN</td>\n",
       "      <td>10.52</td>\n",
       "      <td>NaN</td>\n",
       "      <td>clear-day</td>\n",
       "      <td>None</td>\n",
       "    </tr>\n",
       "    <tr>\n",
       "      <th>2</th>\n",
       "      <td>20117</td>\n",
       "      <td>53.88</td>\n",
       "      <td>30.61</td>\n",
       "      <td>23.27</td>\n",
       "      <td>partly-cloudy-day</td>\n",
       "      <td>0</td>\n",
       "      <td>0</td>\n",
       "      <td>1</td>\n",
       "      <td>0</td>\n",
       "      <td>0</td>\n",
       "      <td>...</td>\n",
       "      <td>65.29</td>\n",
       "      <td>NaN</td>\n",
       "      <td>39.89</td>\n",
       "      <td>NaN</td>\n",
       "      <td>0.000020</td>\n",
       "      <td>NaN</td>\n",
       "      <td>7.64</td>\n",
       "      <td>NaN</td>\n",
       "      <td>partly-cloudy-day</td>\n",
       "      <td>None</td>\n",
       "    </tr>\n",
       "    <tr>\n",
       "      <th>3</th>\n",
       "      <td>20117</td>\n",
       "      <td>59.69</td>\n",
       "      <td>32.51</td>\n",
       "      <td>27.18</td>\n",
       "      <td>clear-day</td>\n",
       "      <td>1</td>\n",
       "      <td>0</td>\n",
       "      <td>0</td>\n",
       "      <td>0</td>\n",
       "      <td>0</td>\n",
       "      <td>...</td>\n",
       "      <td>53.88</td>\n",
       "      <td>NaN</td>\n",
       "      <td>30.61</td>\n",
       "      <td>NaN</td>\n",
       "      <td>0.000088</td>\n",
       "      <td>NaN</td>\n",
       "      <td>6.35</td>\n",
       "      <td>NaN</td>\n",
       "      <td>partly-cloudy-day</td>\n",
       "      <td>None</td>\n",
       "    </tr>\n",
       "    <tr>\n",
       "      <th>4</th>\n",
       "      <td>20117</td>\n",
       "      <td>62.31</td>\n",
       "      <td>32.39</td>\n",
       "      <td>29.92</td>\n",
       "      <td>clear-day</td>\n",
       "      <td>1</td>\n",
       "      <td>0</td>\n",
       "      <td>0</td>\n",
       "      <td>0</td>\n",
       "      <td>0</td>\n",
       "      <td>...</td>\n",
       "      <td>59.69</td>\n",
       "      <td>NaN</td>\n",
       "      <td>32.51</td>\n",
       "      <td>NaN</td>\n",
       "      <td>0.000054</td>\n",
       "      <td>NaN</td>\n",
       "      <td>8.71</td>\n",
       "      <td>NaN</td>\n",
       "      <td>clear-day</td>\n",
       "      <td>None</td>\n",
       "    </tr>\n",
       "    <tr>\n",
       "      <th>5</th>\n",
       "      <td>20117</td>\n",
       "      <td>57.83</td>\n",
       "      <td>35.89</td>\n",
       "      <td>21.94</td>\n",
       "      <td>wind</td>\n",
       "      <td>0</td>\n",
       "      <td>0</td>\n",
       "      <td>0</td>\n",
       "      <td>0</td>\n",
       "      <td>0</td>\n",
       "      <td>...</td>\n",
       "      <td>62.31</td>\n",
       "      <td>NaN</td>\n",
       "      <td>32.39</td>\n",
       "      <td>NaN</td>\n",
       "      <td>0.000015</td>\n",
       "      <td>NaN</td>\n",
       "      <td>7.69</td>\n",
       "      <td>NaN</td>\n",
       "      <td>clear-day</td>\n",
       "      <td>None</td>\n",
       "    </tr>\n",
       "    <tr>\n",
       "      <th>6</th>\n",
       "      <td>20117</td>\n",
       "      <td>56.58</td>\n",
       "      <td>23.25</td>\n",
       "      <td>33.33</td>\n",
       "      <td>clear-day</td>\n",
       "      <td>1</td>\n",
       "      <td>0</td>\n",
       "      <td>0</td>\n",
       "      <td>0</td>\n",
       "      <td>0</td>\n",
       "      <td>...</td>\n",
       "      <td>57.83</td>\n",
       "      <td>NaN</td>\n",
       "      <td>35.89</td>\n",
       "      <td>NaN</td>\n",
       "      <td>0.000018</td>\n",
       "      <td>NaN</td>\n",
       "      <td>14.88</td>\n",
       "      <td>NaN</td>\n",
       "      <td>wind</td>\n",
       "      <td>None</td>\n",
       "    </tr>\n",
       "    <tr>\n",
       "      <th>7</th>\n",
       "      <td>20117</td>\n",
       "      <td>67.72</td>\n",
       "      <td>37.41</td>\n",
       "      <td>30.31</td>\n",
       "      <td>clear-day</td>\n",
       "      <td>1</td>\n",
       "      <td>0</td>\n",
       "      <td>0</td>\n",
       "      <td>0</td>\n",
       "      <td>0</td>\n",
       "      <td>...</td>\n",
       "      <td>56.58</td>\n",
       "      <td>64.25</td>\n",
       "      <td>23.25</td>\n",
       "      <td>26.32</td>\n",
       "      <td>0.000036</td>\n",
       "      <td>0.000035</td>\n",
       "      <td>6.35</td>\n",
       "      <td>10.52</td>\n",
       "      <td>clear-day</td>\n",
       "      <td>clear-day</td>\n",
       "    </tr>\n",
       "    <tr>\n",
       "      <th>8</th>\n",
       "      <td>20117</td>\n",
       "      <td>69.67</td>\n",
       "      <td>45.38</td>\n",
       "      <td>24.29</td>\n",
       "      <td>rain</td>\n",
       "      <td>0</td>\n",
       "      <td>0</td>\n",
       "      <td>0</td>\n",
       "      <td>1</td>\n",
       "      <td>0</td>\n",
       "      <td>...</td>\n",
       "      <td>67.72</td>\n",
       "      <td>65.29</td>\n",
       "      <td>37.41</td>\n",
       "      <td>39.89</td>\n",
       "      <td>0.000024</td>\n",
       "      <td>0.000020</td>\n",
       "      <td>15.36</td>\n",
       "      <td>7.64</td>\n",
       "      <td>clear-day</td>\n",
       "      <td>partly-cloudy-day</td>\n",
       "    </tr>\n",
       "    <tr>\n",
       "      <th>9</th>\n",
       "      <td>20117</td>\n",
       "      <td>53.65</td>\n",
       "      <td>33.31</td>\n",
       "      <td>20.34</td>\n",
       "      <td>rain</td>\n",
       "      <td>0</td>\n",
       "      <td>0</td>\n",
       "      <td>0</td>\n",
       "      <td>1</td>\n",
       "      <td>0</td>\n",
       "      <td>...</td>\n",
       "      <td>69.67</td>\n",
       "      <td>53.88</td>\n",
       "      <td>45.38</td>\n",
       "      <td>30.61</td>\n",
       "      <td>0.000340</td>\n",
       "      <td>0.000088</td>\n",
       "      <td>19.32</td>\n",
       "      <td>6.35</td>\n",
       "      <td>rain</td>\n",
       "      <td>partly-cloudy-day</td>\n",
       "    </tr>\n",
       "  </tbody>\n",
       "</table>\n",
       "<p>10 rows × 28 columns</p>\n",
       "</div>"
      ],
      "text/plain": [
       "    FIPS  DS_DAILY_HIGH_TEMP  DS_DAILY_LOW_TEMP  DS_DAILY_TEMP_VARIATION  \\\n",
       "0  20117               64.25              26.32                    37.93   \n",
       "1  20117               65.29              39.89                    25.40   \n",
       "2  20117               53.88              30.61                    23.27   \n",
       "3  20117               59.69              32.51                    27.18   \n",
       "4  20117               62.31              32.39                    29.92   \n",
       "5  20117               57.83              35.89                    21.94   \n",
       "6  20117               56.58              23.25                    33.33   \n",
       "7  20117               67.72              37.41                    30.31   \n",
       "8  20117               69.67              45.38                    24.29   \n",
       "9  20117               53.65              33.31                    20.34   \n",
       "\n",
       "     DS_WEATHER_ICON  IS_CLEAR_DAY  IS_CLOUDY  IS_PARTLY_CLOUDY  IS_RAINY  \\\n",
       "0          clear-day             1          0                 0         0   \n",
       "1  partly-cloudy-day             0          0                 1         0   \n",
       "2  partly-cloudy-day             0          0                 1         0   \n",
       "3          clear-day             1          0                 0         0   \n",
       "4          clear-day             1          0                 0         0   \n",
       "5               wind             0          0                 0         0   \n",
       "6          clear-day             1          0                 0         0   \n",
       "7          clear-day             1          0                 0         0   \n",
       "8               rain             0          0                 0         1   \n",
       "9               rain             0          0                 0         1   \n",
       "\n",
       "   IS_SNOWY  ...  LAG_DS_DAILY_HIGH_TEMP_1  LAG_DS_DAILY_HIGH_TEMP_7  \\\n",
       "0         0  ...                       NaN                       NaN   \n",
       "1         0  ...                     64.25                       NaN   \n",
       "2         0  ...                     65.29                       NaN   \n",
       "3         0  ...                     53.88                       NaN   \n",
       "4         0  ...                     59.69                       NaN   \n",
       "5         0  ...                     62.31                       NaN   \n",
       "6         0  ...                     57.83                       NaN   \n",
       "7         0  ...                     56.58                     64.25   \n",
       "8         0  ...                     67.72                     65.29   \n",
       "9         0  ...                     69.67                     53.88   \n",
       "\n",
       "   LAG_DS_DAILY_LOW_TEMP_1  LAG_DS_DAILY_LOW_TEMP_7  \\\n",
       "0                      NaN                      NaN   \n",
       "1                    26.32                      NaN   \n",
       "2                    39.89                      NaN   \n",
       "3                    30.61                      NaN   \n",
       "4                    32.51                      NaN   \n",
       "5                    32.39                      NaN   \n",
       "6                    35.89                      NaN   \n",
       "7                    23.25                    26.32   \n",
       "8                    37.41                    39.89   \n",
       "9                    45.38                    30.61   \n",
       "\n",
       "   LAG_DS_DAILY_TOTAL_RAINFALL_1  LAG_DS_DAILY_TOTAL_RAINFALL_7  \\\n",
       "0                            NaN                            NaN   \n",
       "1                       0.000035                            NaN   \n",
       "2                       0.000020                            NaN   \n",
       "3                       0.000088                            NaN   \n",
       "4                       0.000054                            NaN   \n",
       "5                       0.000015                            NaN   \n",
       "6                       0.000018                            NaN   \n",
       "7                       0.000036                       0.000035   \n",
       "8                       0.000024                       0.000020   \n",
       "9                       0.000340                       0.000088   \n",
       "\n",
       "   LAG_DS_DAILY_WINDSPEED_1 LAG_DS_DAILY_WINDSPEED_7  LAG_DS_WEATHER_ICON_1  \\\n",
       "0                       NaN                      NaN                   None   \n",
       "1                     10.52                      NaN              clear-day   \n",
       "2                      7.64                      NaN      partly-cloudy-day   \n",
       "3                      6.35                      NaN      partly-cloudy-day   \n",
       "4                      8.71                      NaN              clear-day   \n",
       "5                      7.69                      NaN              clear-day   \n",
       "6                     14.88                      NaN                   wind   \n",
       "7                      6.35                    10.52              clear-day   \n",
       "8                     15.36                     7.64              clear-day   \n",
       "9                     19.32                     6.35                   rain   \n",
       "\n",
       "   LAG_DS_WEATHER_ICON_7  \n",
       "0                   None  \n",
       "1                   None  \n",
       "2                   None  \n",
       "3                   None  \n",
       "4                   None  \n",
       "5                   None  \n",
       "6                   None  \n",
       "7              clear-day  \n",
       "8      partly-cloudy-day  \n",
       "9      partly-cloudy-day  \n",
       "\n",
       "[10 rows x 28 columns]"
      ]
     },
     "execution_count": 9,
     "metadata": {},
     "output_type": "execute_result"
    }
   ],
   "source": [
    "df"
   ]
  },
  {
   "cell_type": "markdown",
   "id": "b6044fc6-7362-490b-abae-e175d750ea81",
   "metadata": {},
   "source": [
    "Multiple calls of `transform` can be chained together to create more complicated transformations of the original data."
   ]
  },
  {
   "cell_type": "markdown",
   "id": "7c038d78-8e7e-4cee-b400-4b7d8232f68c",
   "metadata": {},
   "source": [
    "Once satisfied that the data is being transformed correctly, the data can be saved as a new source on Rasgo by calling the function `to_source`."
   ]
  },
  {
   "cell_type": "code",
   "execution_count": 10,
   "id": "40dda6d8-26b4-451b-9202-52d3001e69b9",
   "metadata": {},
   "outputs": [],
   "source": [
    "transformed_source = newsource.to_source(new_table_name=\"DS_LAGS_TUTORIAL\")"
   ]
  },
  {
   "cell_type": "markdown",
   "id": "ce86eea3-5ddb-4359-af54-1e51f1aa597f",
   "metadata": {},
   "source": [
    "Finally, the new columns can be be published as features in Rasgo to make them available for further use by everyone on the team."
   ]
  },
  {
   "cell_type": "code",
   "execution_count": 11,
   "id": "f1893063-99ba-4c47-a965-da243d6ae608",
   "metadata": {},
   "outputs": [],
   "source": [
    "new_source = rasgo.publish.features_from_source(data_source_id=transformed_source.id,\n",
    "                                                dimensions=['DATE', 'FIPS'],\n",
    "                                                granularity=['day', 'FIPS'],\n",
    "                                                features=['LAG_DS_DAILY_HIGH_TEMP_1', 'LAG_DS_DAILY_HIGH_TEMP_7', \n",
    "                                                          'LAG_DS_DAILY_LOW_TEMP_1','LAG_DS_DAILY_LOW_TEMP_7', \n",
    "                                                          'LAG_DS_DAILY_TOTAL_RAINFALL_1','LAG_DS_DAILY_TOTAL_RAINFALL_7', \n",
    "                                                          'LAG_DS_DAILY_WINDSPEED_1','LAG_DS_DAILY_WINDSPEED_7', \n",
    "                                                          'LAG_DS_WEATHER_ICON_1','LAG_DS_WEATHER_ICON_7'],\n",
    "                                                tags=['darksky', 'transformation_tutorial'],\n",
    "                                                sandbox=False)"
   ]
  },
  {
   "cell_type": "markdown",
   "id": "b0c67825-9f16-4f19-b327-25a50a0a2964",
   "metadata": {},
   "source": [
    "## Work with this data on Rasgo"
   ]
  },
  {
   "cell_type": "markdown",
   "id": "aa71855e-4368-48a2-957a-a9c7375d2e68",
   "metadata": {},
   "source": [
    "### Find the data on Rasgo"
   ]
  },
  {
   "cell_type": "markdown",
   "id": "cfdff863-83cd-4c38-beb6-dae795d54bc3",
   "metadata": {},
   "source": [
    "When you first open [Rasgo](https://app.rasgoml.com), you are shown the homepage that details recent activity within your organization. You can search for and examine features by clicking the feature button in the upper left hand corner.\n",
    "\n",
    "<img src=\"img/Explore_Features.jpg\" alt=\"Explore Features\">\n",
    "\n",
    "Within the Features page you can explore by **Hashtags**, **Data Sources**, **Dimensions**, or **Data Types**. Most commonly you will explore by **Hashtags** or **Data Sources**\n",
    "\n",
    "<p align=\"center\">\n",
    "  <img src=\"img/Rasgo_Find_Features.jpg\" alt=\"Explore by Hashtags or by Data Source\">\n",
    "</p>\n",
    "\n",
    "\n",
    "Next to **Hashtags**, you can see the hashtags created in the previous step:\n",
    "\n",
    "<p align=\"center\">\n",
    "  <img src=\"img/darksky.png\" alt=\"demo_sales\" width=\"128\">\n",
    "  and\n",
    "  <img src=\"img/transformation_tutorial.png\" alt=\"sales_sports\" width=\"128\">\n",
    "</p>\n",
    "\n",
    "Clicking on either card will take you to the list of all the features with that tag (in this case, all features published in the prior step). Similarly, clicking on the **RASGO.PUBLIC.DS_LAGS_TUTORIAL** card next to **Data Sources** will take you to the same list.\n",
    "\n",
    "This list of features will show a card for each feature. For example,\n",
    "\n",
    "<p align=\"center\">\n",
    "  <img src=\"img/LAG_DS_DAILY_HIGH_TEMP_7.png\" alt=\"LAG DS DAILY HIGH TEMP 7\" width=\"30%\">\n",
    "</p>\n",
    "\n",
    "This feature is called LAG_DS_DAILY_HIGH_TEMP_7:  \n",
    "  1. The *.00* means it's a floating point number.  \n",
    "  2. It comes from \"RASGO.PUBLIC.DS_LAGS_TUTORIAL\" Data Source.   \n",
    "  3. It has the dimension/granularity of **day** and **FIPS**.  \n",
    "\n",
    "Clicking the details button will show you the feature details including basic statistics, a histogram of the distribution, the value over time, and data quality checks. \n",
    "\n",
    "<img src=\"img/Feature_Details.jpg\" alt=\"Feature Details Overview\">\n",
    "\n",
    "\n",
    "Click the browser back button to go back to the previous page and explore additional features from the list, or click **< Features** in the upper left to go back to the intial **Explore Features** page."
   ]
  },
  {
   "cell_type": "markdown",
   "id": "6bfca9ea-3ddd-421a-becf-ecdbf48ab578",
   "metadata": {},
   "source": [
    "## Create your own UDT"
   ]
  },
  {
   "cell_type": "markdown",
   "id": "6c28d809-544f-49d0-bea2-6bfe6007a57e",
   "metadata": {},
   "source": [
    "### Note: this only works for enterprise customers"
   ]
  },
  {
   "cell_type": "markdown",
   "id": "0666131d-4e77-4645-90ff-b29d6a3a1acb",
   "metadata": {},
   "source": [
    "To create a UDT in Rasgo, write the transform as a SQL `SELECT` statement.  Rasgo uses [Jinja](https://jinja.palletsprojects.com/en/3.0.x/) templates to define these transforms.  The template below creates a `SELECT` statement that returns all fields from *source_table* that is provided from the Rasgo datasource aquired above.  The fields\n",
    "- *fields_to_average*\n",
    "- *window_sizes*\n",
    "- *serial_dim*\n",
    "- *date_dim*\n",
    "are fields that can be specified when the transform is called on a datasource, and the first two are both arrays that **Jinja** will parse to create the statement."
   ]
  },
  {
   "cell_type": "code",
   "execution_count": null,
   "id": "c336d821-348b-4c75-b8d0-2af60be140f7",
   "metadata": {},
   "outputs": [],
   "source": [
    "sqltext = \"\"\"SELECT * \n",
    "{%- for column in fields_to_average -%}\n",
    "    {%- for window in window_sizes -%}\n",
    "        , avg({{column}}) OVER(PARTITION BY {{serial_dim}} ORDER BY {{date_dim}} ROWS BETWEEN {{window - 1}} PRECEDING AND CURRENT ROW) AS mean_{{column}}_{{window}} \n",
    "    {%- endfor -%}\n",
    "{%- endfor -%}\n",
    "FROM {{source_table}}\"\"\""
   ]
  },
  {
   "cell_type": "markdown",
   "id": "ab8f560d-5bd7-4a1c-bd7e-02ce2ebe7db6",
   "metadata": {},
   "source": [
    "If you are an enterprise customer, you can call `rasgo.create.transform` to create the transformation.  This transformation will then appear in the list returned by `rasgo.get.transforms` and can be used just as was done above."
   ]
  },
  {
   "cell_type": "code",
   "execution_count": null,
   "id": "67c7effd-a5b9-4b0f-9072-ae7425a1bdd9",
   "metadata": {},
   "outputs": [],
   "source": [
    "new_transform = rasgo.create.transform(\n",
    "    name=\"moving_average\", source_code=sqltext)"
   ]
  },
  {
   "cell_type": "code",
   "execution_count": null,
   "id": "18737154-d093-4c82-9f89-75e56cdf3c31",
   "metadata": {},
   "outputs": [],
   "source": []
  }
 ],
 "metadata": {
  "kernelspec": {
   "display_name": "Python 3",
   "language": "python",
   "name": "python3"
  },
  "language_info": {
   "codemirror_mode": {
    "name": "ipython",
    "version": 3
   },
   "file_extension": ".py",
   "mimetype": "text/x-python",
   "name": "python",
   "nbconvert_exporter": "python",
   "pygments_lexer": "ipython3",
   "version": "3.7.10"
  }
 },
 "nbformat": 4,
 "nbformat_minor": 5
}
